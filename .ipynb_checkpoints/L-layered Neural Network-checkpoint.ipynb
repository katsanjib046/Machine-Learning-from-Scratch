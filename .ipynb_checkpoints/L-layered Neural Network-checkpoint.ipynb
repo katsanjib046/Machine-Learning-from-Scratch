{
 "cells": [
  {
   "cell_type": "markdown",
   "metadata": {},
   "source": [
    "# L-Layered Neural Network"
   ]
  },
  {
   "cell_type": "code",
   "execution_count": 1,
   "metadata": {},
   "outputs": [],
   "source": [
    "# some imports\n",
    "import numpy as np"
   ]
  },
  {
   "cell_type": "markdown",
   "metadata": {},
   "source": [
    "### Parameter Initialization"
   ]
  },
  {
   "cell_type": "markdown",
   "metadata": {},
   "source": [
    "We begin by initializing the weights and biases. The following function can be used to randomly initialize the weights and biases to zero."
   ]
  },
  {
   "cell_type": "code",
   "execution_count": 2,
   "metadata": {},
   "outputs": [],
   "source": [
    "def initialize_parameters(layers_dim):\n",
    "    \"\"\"Initializes the parameters to a deep neural network.\n",
    "    Arguments:\n",
    "    n_layers-dim -- List containing the dimensions of each layers in the network.\n",
    "    epsilon -- a small number that is used to multiply the randomly generated weights to make them very small.\n",
    "    \n",
    "    Returns:\n",
    "    parameters -- dictionary containing the parameters for different layers with index \"W1\", \"b1\", \"W2\", \"b2\", etc.\n",
    "                    Wl = weight matrix for layer l of shape (layers_dim[l-1], layers_dim[l])\n",
    "                    bl = bias matrix for layer l of shape (layers_dim[l], 1)\n",
    "    \"\"\"\n",
    "    L = len(layers_dim) # Gives the total number of layers\n",
    "    \n",
    "    parameters = {}\n",
    "    \n",
    "    for l in range(1,L): # we don't need weight matrix for the first layer\n",
    "        parameters[\"W\" + str(l)] = np.random.randn(layers_dim[l], layers_dim[l-1])/ np.sqrt(layers_dims[l-1])# * 0.01\n",
    "        parameters[\"b\" + str(l)] = np.zeros((layers_dim[l],1))\n",
    "        \n",
    "    return parameters"
   ]
  },
  {
   "cell_type": "markdown",
   "metadata": {},
   "source": [
    "### Activation Functions"
   ]
  },
  {
   "cell_type": "code",
   "execution_count": 3,
   "metadata": {},
   "outputs": [],
   "source": [
    "def sigmoid(Z):\n",
    "    \"\"\"\n",
    "    Implements the sigmoid function.\n",
    "    Arguments:\n",
    "    Z -- An array Z\n",
    "    \n",
    "    Returns:\n",
    "    A -- activations\n",
    "    activation_cache -- the input Z is returned\n",
    "    \"\"\"\n",
    "    \n",
    "    A = 1 / (1+np.exp(-Z))\n",
    "    activation_cache = Z\n",
    "    return A, activation_cache"
   ]
  },
  {
   "cell_type": "code",
   "execution_count": 4,
   "metadata": {},
   "outputs": [],
   "source": [
    "def relu(Z):\n",
    "    \"\"\"\n",
    "    Implements the relu function.\n",
    "    Arguments:\n",
    "    Z -- An array Z\n",
    "    \n",
    "    Returns:\n",
    "    A -- activations\n",
    "    activation_cache -- the input Z is returned\n",
    "    \"\"\"\n",
    "    A = np.maximum(0, Z)\n",
    "    activation_cache = Z\n",
    "    return A, activation_cache"
   ]
  },
  {
   "cell_type": "code",
   "execution_count": 5,
   "metadata": {},
   "outputs": [],
   "source": [
    "def sigmoid_backward(dA, cache):\n",
    "    \"\"\"\n",
    "    Implement the backward propagation for a single SIGMOID unit.\n",
    "\n",
    "    Arguments:\n",
    "    dA -- post-activation gradient, of any shape\n",
    "    cache -- 'Z' where we store for computing backward propagation efficiently\n",
    "\n",
    "    Returns:\n",
    "    dZ -- Gradient of the cost with respect to Z\n",
    "    \"\"\"\n",
    "    \n",
    "    Z = cache\n",
    "    \n",
    "    s = 1/(1+np.exp(-Z))\n",
    "    dZ = dA * s * (1-s)\n",
    "    \n",
    "    return dZ"
   ]
  },
  {
   "cell_type": "code",
   "execution_count": 6,
   "metadata": {},
   "outputs": [],
   "source": [
    "def relu_backward(dA, cache):\n",
    "    \"\"\"\n",
    "    Implement the backward propagation for a single RELU unit.\n",
    "\n",
    "    Arguments:\n",
    "    dA -- post-activation gradient, of any shape\n",
    "    cache -- 'Z' where we store for computing backward propagation efficiently\n",
    "\n",
    "    Returns:\n",
    "    dZ -- Gradient of the cost with respect to Z\n",
    "    \"\"\"\n",
    "    \n",
    "    Z = cache\n",
    "    dZ = np.array(dA, copy=True) \n",
    "    \n",
    "    dZ[Z <= 0] = 0\n",
    "    \n",
    "    return dZ"
   ]
  },
  {
   "cell_type": "markdown",
   "metadata": {},
   "source": [
    "## Forward Propagation"
   ]
  },
  {
   "cell_type": "code",
   "execution_count": 7,
   "metadata": {},
   "outputs": [],
   "source": [
    "def forward_linear(A, W, b):\n",
    "    \"\"\"Implements  linear forward propagation in a deep neural network\n",
    "    Arguments:\n",
    "    A -- Activation from the previous layer\n",
    "    W -- Weight matrix for this layer\n",
    "    b -- Bias matrix for this layer\n",
    "    \n",
    "    Returns:\n",
    "    Z --  pre-activation function for this layer\n",
    "    linear_cache -- storing the values of A, W and b for use in backward propagation\n",
    "    \"\"\"\n",
    "    Z = W@A + b\n",
    "    linear_cache = (A, W, b)\n",
    "    return Z, linear_cache"
   ]
  },
  {
   "cell_type": "code",
   "execution_count": 8,
   "metadata": {},
   "outputs": [],
   "source": [
    "def forward_activation(A_prev,W,b, activation):\n",
    "    \"\"\"Implements the activation for this layer\n",
    "    Arguments:\n",
    "    Z -- pre-activation for this layer\n",
    "    activation -- either relu or sigmoid activation to be used\n",
    "    \n",
    "    Returns:\n",
    "    A -- Activation from this layer\n",
    "    activation_cache -- Activation cache to be used in backward propagation, which is just the Z\n",
    "    \"\"\"\n",
    "    if activation ==\"sigmoid\":\n",
    "        Z, linear_cache = forward_linear(A_prev,W,b)\n",
    "        A, activation_cache = sigmoid(Z)\n",
    "    if activation == \"relu\":\n",
    "        Z, linear_cache = forward_linear(A_prev,W,b)\n",
    "        A, activation_cache = relu(Z)\n",
    "    cache = (linear_cache, activation_cache)\n",
    "        \n",
    "    return A, cache"
   ]
  },
  {
   "cell_type": "code",
   "execution_count": 9,
   "metadata": {},
   "outputs": [],
   "source": [
    "def forward_combine(X, parameters):\n",
    "    \"\"\"\n",
    "    Implements the combine linear and activation forward movements.\n",
    "    Arguments:\n",
    "    X -- Input X\n",
    "    parameters -- parameters to be used, which is a dictionary\n",
    "    Returns:\n",
    "    AL -- The output activation\n",
    "    caches -- all caches combined from different layers for backward propagation\n",
    "    \"\"\"\n",
    "    A = X\n",
    "    caches = []\n",
    "    L = len(parameters) // 2\n",
    "    \n",
    "    for l in range(1,L):\n",
    "        A_prev = A\n",
    "        A,cache = forward_activation(A, parameters[\"W\" + str(l)], parameters[\"b\" + str(l)],'relu')\n",
    "        caches.append(cache)\n",
    "    \n",
    "    # for the last layer\n",
    "    AL, cache = forward_activation(A, parameters[\"W\" + str(L)], parameters[\"b\" + str(L)],'sigmoid')\n",
    "    caches.append(cache)\n",
    "    \n",
    "    return AL, caches"
   ]
  },
  {
   "cell_type": "markdown",
   "metadata": {},
   "source": [
    "## Cost Function"
   ]
  },
  {
   "cell_type": "code",
   "execution_count": 10,
   "metadata": {},
   "outputs": [],
   "source": [
    "def compute_cost(AL, Y):\n",
    "    \"\"\"\n",
    "    Computes the cost given the output of last layer and the labels\n",
    "    Arguments:\n",
    "    AL -- Output of the last layer\n",
    "    Y -- Given labels for the input data\n",
    "    Returns:\n",
    "    cost -- a single real value giving cost\n",
    "    \"\"\"\n",
    "    m = Y.shape[1]\n",
    "    cost = -(np.dot(Y,np.log(AL.T)) + np.dot((1-Y),np.log((1-AL).T)))/m\n",
    "    cost = np.squeeze(cost)\n",
    "    \n",
    "    return cost"
   ]
  },
  {
   "cell_type": "markdown",
   "metadata": {},
   "source": [
    "## Backward Propagation"
   ]
  },
  {
   "cell_type": "code",
   "execution_count": 11,
   "metadata": {},
   "outputs": [],
   "source": [
    "def backward_linear(dZ, cache):\n",
    "    \"\"\"\n",
    "    Implements the linear part of backward propagation.\n",
    "    Arguments:\n",
    "    dZ -- the gradient of the cost wrt the linear output of the  next (l+1) layer\n",
    "    cache -- linear_cache from the forward propagation, contains (A_prev, W, b)\n",
    "    Returns:\n",
    "    dA_prev -- Gradient of the cost with respect to the activation (of the previous layer l-1)\n",
    "    dW -- Gradient of the cost with respect to W (current layer l)\n",
    "    db -- Gradient of the cost with respect to b (current layer l)\n",
    "    \"\"\"\n",
    "    A_prev, W, b = cache\n",
    "    m = A_prev.shape[1]\n",
    "    \n",
    "    dW = dZ @ A_prev.T / m\n",
    "    db = np.sum(dZ,axis = 1, keepdims = True) / m\n",
    "    dA_prev = W.T @ dZ\n",
    "    \n",
    "    return dA_prev, dW, db"
   ]
  },
  {
   "cell_type": "code",
   "execution_count": 12,
   "metadata": {},
   "outputs": [],
   "source": [
    "def backward_activation(dA, cache, activation):\n",
    "    \"\"\"\n",
    "    Implement the backward propagation for the LINEAR->ACTIVATION layer.\n",
    "    \n",
    "    Arguments:\n",
    "    dA -- post-activation gradient for current layer l \n",
    "    cache -- tuple of values (linear_cache, activation_cache) we store for computing backward propagation efficiently\n",
    "    activation -- the activation to be used in this layer, stored as a text string: \"sigmoid\" or \"relu\"\n",
    "    \n",
    "    Returns:\n",
    "    dA_prev -- Gradient of the cost with respect to the activation (of the previous layer l-1), same shape as A_prev\n",
    "    dW -- Gradient of the cost with respect to W (current layer l), same shape as W\n",
    "    db -- Gradient of the cost with respect to b (current layer l), same shape as b\n",
    "    \"\"\"\n",
    "    linear_cache, activation_cache = cache\n",
    "    \n",
    "    if activation == \"relu\":\n",
    "        dZ = relu_backward(dA,activation_cache)\n",
    "        dA_prev, dW, db = backward_linear(dZ,linear_cache)\n",
    "        \n",
    "    elif activation == \"sigmoid\":\n",
    "        dZ = sigmoid_backward(dA, activation_cache)\n",
    "        dA_prev, dW, db = backward_linear(dZ, linear_cache)\n",
    "    \n",
    "    return dA_prev, dW, db"
   ]
  },
  {
   "cell_type": "code",
   "execution_count": 13,
   "metadata": {},
   "outputs": [],
   "source": [
    "# GRADED FUNCTION: L_model_backward\n",
    "\n",
    "def backward_combine(AL, Y, caches):\n",
    "    \"\"\"\n",
    "    Implement the backward propagation for the [LINEAR->RELU] * (L-1) -> LINEAR -> SIGMOID group\n",
    "    \n",
    "    Arguments:\n",
    "    AL -- probability vector, output of the forward propagation (L_model_forward())\n",
    "    Y -- true \"label\" vector (containing 0 if non-cat, 1 if cat)\n",
    "    caches -- list of caches containing:\n",
    "                every cache of linear_activation_forward() with \"relu\" (it's caches[l], for l in range(L-1) i.e l = 0...L-2)\n",
    "                the cache of linear_activation_forward() with \"sigmoid\" (it's caches[L-1])\n",
    "    \n",
    "    Returns:\n",
    "    grads -- A dictionary with the gradients\n",
    "             grads[\"dA\" + str(l)] = ... \n",
    "             grads[\"dW\" + str(l)] = ...\n",
    "             grads[\"db\" + str(l)] = ... \n",
    "    \"\"\"\n",
    "    grads = {}\n",
    "    L = len(caches) # the number of layers\n",
    "    m = AL.shape[1]\n",
    "    Y = Y.reshape(AL.shape) # after this line, Y is the same shape as AL\n",
    "    \n",
    "    # initialization of backpropagation\n",
    "    dAL = - (np.divide(Y,AL) - np.divide(1-Y,1-AL))\n",
    "\n",
    "    current_cache = caches[L-1]\n",
    "    dA_prev_temp, dW_temp, db_temp = backward_activation(dAL,current_cache,'sigmoid')\n",
    "    grads[\"dA\" + str(L-1)] = dA_prev_temp\n",
    "    grads[\"dW\" + str(L)] = dW_temp\n",
    "    grads[\"db\" + str(L)] = db_temp\n",
    "    \n",
    "    # Loop from l=L-2 to l=0\n",
    "    for l in reversed(range(L-1)):\n",
    "        current_cache = caches[l]\n",
    "        dA_prev_temp, dW_temp, db_temp = backward_activation(dA_prev_temp,current_cache,'relu')\n",
    "        grads[\"dA\" + str(l)] = dA_prev_temp\n",
    "        grads[\"dW\" + str(l+1)] = dW_temp\n",
    "        grads[\"db\" + str(l+1)] = db_temp\n",
    "        \n",
    "        \n",
    "    return grads"
   ]
  },
  {
   "cell_type": "code",
   "execution_count": 14,
   "metadata": {},
   "outputs": [],
   "source": [
    "def update_parameters(params, grads, learning_rate):\n",
    "    \"\"\"\n",
    "    Update parameters using gradient descent\n",
    "    \n",
    "    Arguments:\n",
    "    params -- python dictionary containing your parameters \n",
    "    grads -- python dictionary containing your gradients, output of L_model_backward\n",
    "    \n",
    "    Returns:\n",
    "    parameters -- python dictionary containing your updated parameters \n",
    "                  parameters[\"W\" + str(l)] = ... \n",
    "                  parameters[\"b\" + str(l)] = ...\n",
    "    \"\"\"\n",
    "    parameters = params.copy()\n",
    "    L = len(parameters) // 2 # number of layers in the neural network\n",
    "\n",
    "    for l in range(L):\n",
    "        parameters[\"W\" + str(l+1)] = parameters[\"W\" + str(l+1)] - learning_rate * grads[\"dW\" + str(l+1)]\n",
    "        parameters['b' + str(l+1)] = parameters['b' + str(l+1)] - learning_rate * grads['db' + str(l+1)]\n",
    "        \n",
    "    return parameters"
   ]
  },
  {
   "cell_type": "markdown",
   "metadata": {},
   "source": [
    "## Combining Forward and Backward Propagation"
   ]
  },
  {
   "cell_type": "code",
   "execution_count": 15,
   "metadata": {},
   "outputs": [],
   "source": [
    "def L_layer_model(X, Y, layers_dims, learning_rate = 0.0075, num_iterations = 3000, print_cost=False):\n",
    "    \"\"\"\n",
    "    Implements a L-layer neural network: [LINEAR->RELU]*(L-1)->LINEAR->SIGMOID.\n",
    "    \n",
    "    Arguments:\n",
    "    X -- data, numpy array of shape (num_px * num_px * 3, number of examples)\n",
    "    Y -- true \"label\" vector (containing 0 if cat, 1 if non-cat), of shape (1, number of examples)\n",
    "    layers_dims -- list containing the input size and each layer size, of length (number of layers + 1).\n",
    "    learning_rate -- learning rate of the gradient descent update rule\n",
    "    num_iterations -- number of iterations of the optimization loop\n",
    "    print_cost -- if True, it prints the cost every 100 steps\n",
    "    \n",
    "    Returns:\n",
    "    parameters -- parameters learnt by the model. They can then be used to predict.\n",
    "    \"\"\"\n",
    "\n",
    "    costs = []                         \n",
    "    parameters = initialize_parameters(layers_dims) #initializtaion\n",
    "    \n",
    "    for i in range(0, num_iterations):\n",
    "\n",
    "        AL, caches = forward_combine(X, parameters)\n",
    "        \n",
    "        cost = compute_cost(AL, Y)\n",
    "        \n",
    "        grads = backward_combine(AL, Y, caches)\n",
    "        \n",
    "        parameters = update_parameters(parameters, grads, learning_rate)\n",
    "        \n",
    "                \n",
    "        # Print the cost every 100 iterations\n",
    "        if print_cost and i % 100 == 0 or i == num_iterations - 1:\n",
    "            print(\"Cost after iteration {}: {}\".format(i, np.squeeze(cost)))\n",
    "        if i % 100 == 0 or i == num_iterations:\n",
    "            costs.append(cost)\n",
    "    \n",
    "    return parameters, costs"
   ]
  },
  {
   "cell_type": "markdown",
   "metadata": {},
   "source": [
    "## An example run"
   ]
  },
  {
   "cell_type": "code",
   "execution_count": 16,
   "metadata": {},
   "outputs": [],
   "source": [
    "# some imports\n",
    "import h5py\n",
    "import matplotlib.pyplot as plt"
   ]
  },
  {
   "cell_type": "code",
   "execution_count": 17,
   "metadata": {},
   "outputs": [],
   "source": [
    "train_dataset = h5py.File('train_catvnoncat.h5', \"r\")\n",
    "test_dataset = h5py.File('test_catvnoncat.h5', \"r\")"
   ]
  },
  {
   "cell_type": "code",
   "execution_count": 18,
   "metadata": {},
   "outputs": [],
   "source": [
    "# loading the data\n",
    "train_x_orig = np.array(train_dataset['train_set_x'])\n",
    "train_y_orig = np.array(train_dataset['train_set_y'])\n",
    "train_y = train_y_orig.reshape((1,train_y_orig.shape[0]))\n",
    "test_x_orig = np.array(test_dataset['test_set_x'])\n",
    "test_y_orig = np.array(test_dataset['test_set_y'])\n",
    "test_y = test_y_orig.reshape((1,test_y_orig.shape[0]))"
   ]
  },
  {
   "cell_type": "code",
   "execution_count": 19,
   "metadata": {},
   "outputs": [
    {
     "data": {
      "image/png": "[encoded data removed]",
      "text/plain": [
       "<Figure size 432x288 with 1 Axes>"
      ]
     },
     "metadata": {
      "needs_background": "light"
     },
     "output_type": "display_data"
    },
    {
     "name": "stdout",
     "output_type": "stream",
     "text": [
      "y =  0\n",
      "'y=1' is a cat and 'y=0' is a not cat!\n"
     ]
    }
   ],
   "source": [
    "# Example of a picture\n",
    "index = 15\n",
    "plt.imshow(train_x_orig[index])\n",
    "plt.axis('off')\n",
    "plt.show()\n",
    "print (\"y = \", train_y[0,index])\n",
    "print (\"'y=1' is a cat and 'y=0' is a not cat!\")"
   ]
  },
  {
   "cell_type": "code",
   "execution_count": 20,
   "metadata": {},
   "outputs": [],
   "source": [
    "# Reshape the training and test examples \n",
    "train_x_flatten = train_x_orig.reshape(train_x_orig.shape[0], -1).T   # The \"-1\" makes reshape flatten the remaining dimensions\n",
    "test_x_flatten = test_x_orig.reshape(test_x_orig.shape[0], -1).T\n",
    "\n",
    "# Standardize data to have feature values between 0 and 1.\n",
    "train_x = train_x_flatten/255.\n",
    "test_x = test_x_flatten/255."
   ]
  },
  {
   "cell_type": "code",
   "execution_count": 21,
   "metadata": {},
   "outputs": [],
   "source": [
    "### CONSTANTS ###\n",
    "layers_dims = [12288, 20, 7, 5, 1] #  4-layer model"
   ]
  },
  {
   "cell_type": "code",
   "execution_count": 22,
   "metadata": {},
   "outputs": [
    {
     "name": "stdout",
     "output_type": "stream",
     "text": [
      "This might take few minutes!\n",
      "Cost after iteration 0: 0.7316167227495363\n",
      "Cost after iteration 100: 0.6080556222174327\n",
      "Cost after iteration 200: 0.5581503316238193\n",
      "Cost after iteration 300: 0.5060027173978532\n",
      "Cost after iteration 400: 0.47419244315991343\n",
      "Cost after iteration 500: 0.4156681183259093\n",
      "Cost after iteration 600: 0.33696577813578854\n",
      "Cost after iteration 700: 0.33872037489976625\n",
      "Cost after iteration 800: 0.20777106543076382\n",
      "Cost after iteration 900: 0.5840845420561495\n",
      "Cost after iteration 1000: 0.07632335463999707\n",
      "Cost after iteration 1100: 0.0463910785266822\n",
      "Cost after iteration 1200: 0.027926796626594707\n",
      "Cost after iteration 1300: 0.020385093631318567\n",
      "Cost after iteration 1400: 0.015841857446495137\n",
      "Cost after iteration 1500: 0.012674431810496531\n",
      "Cost after iteration 1600: 0.010346382248864066\n",
      "Cost after iteration 1700: 0.008658621702943634\n",
      "Cost after iteration 1800: 0.007383198810273449\n",
      "Cost after iteration 1900: 0.006396509379280558\n",
      "Cost after iteration 2000: 0.005602236972110348\n",
      "Cost after iteration 2100: 0.004962187295224417\n",
      "Cost after iteration 2200: 0.004440214167868946\n",
      "Cost after iteration 2300: 0.0040095650736654\n",
      "Cost after iteration 2400: 0.0036353922867194397\n",
      "Cost after iteration 2499: 0.00332370868365833\n"
     ]
    }
   ],
   "source": [
    "print(\"This might take few minutes!\")\n",
    "parameters, costs = L_layer_model(train_x, train_y, layers_dims, num_iterations = 2500, print_cost = True)"
   ]
  },
  {
   "cell_type": "markdown",
   "metadata": {},
   "source": [
    "## Prediction"
   ]
  },
  {
   "cell_type": "code",
   "execution_count": 26,
   "metadata": {},
   "outputs": [],
   "source": [
    "def prediction(X, y, parameters):\n",
    "    \"\"\"\n",
    "    This function is predicts the labels.\n",
    "    \n",
    "    Arguments:\n",
    "    X -- data set of examples\n",
    "    parameters -- parameters obtained from NN\n",
    "    \n",
    "    Returns:\n",
    "    p -- predictions for the given dataset X\n",
    "    \"\"\"\n",
    "    \n",
    "    m = X.shape[1]\n",
    "    n = len(parameters) // 2 # number of layers in the neural network\n",
    "    p = np.zeros((1,m))\n",
    "    \n",
    "    # Forward propagation\n",
    "    probas, caches = forward_combine(X, parameters)\n",
    "\n",
    "    \n",
    "    # convert probas to 0/1 predictions\n",
    "    for i in range(0, probas.shape[1]):\n",
    "        if probas[0,i] > 0.5:\n",
    "            p[0,i] = 1\n",
    "    print(\"Accuracy: \"  + str(np.sum((p == y)/m)))\n",
    "        \n",
    "    return p"
   ]
  },
  {
   "cell_type": "code",
   "execution_count": 27,
   "metadata": {},
   "outputs": [
    {
     "name": "stdout",
     "output_type": "stream",
     "text": [
      "For the training set:\n",
      "Accuracy: 0.9999999999999998\n"
     ]
    }
   ],
   "source": [
    "print(\"For the training set:\")\n",
    "pred_train = prediction(train_x, train_y, parameters)"
   ]
  },
  {
   "cell_type": "code",
   "execution_count": 28,
   "metadata": {},
   "outputs": [
    {
     "name": "stdout",
     "output_type": "stream",
     "text": [
      "For the test set:\n",
      "Accuracy: 0.7\n"
     ]
    }
   ],
   "source": [
    "print(\"For the test set:\")\n",
    "pred_train = prediction(test_x, test_y, parameters)"
   ]
  },
  {
   "cell_type": "markdown",
   "metadata": {},
   "source": [
    "Looks like the next step is to use regularization to avoid overfitting. Thank you!"
   ]
  }
 ],
 "metadata": {
  "kernelspec": {
   "display_name": "Python 3",
   "language": "python",
   "name": "python3"
  },
  "language_info": {
   "codemirror_mode": {
    "name": "ipython",
    "version": 3
   },
   "file_extension": ".py",
   "mimetype": "text/x-python",
   "name": "python",
   "nbconvert_exporter": "python",
   "pygments_lexer": "ipython3",
   "version": "3.7.6"
  }
 },
 "nbformat": 4,
 "nbformat_minor": 4
}
